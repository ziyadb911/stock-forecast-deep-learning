{
 "cells": [
  {
   "cell_type": "code",
   "execution_count": 140,
   "metadata": {},
   "outputs": [],
   "source": [
    "import os\n",
    "import pandas as pd\n",
    "import numpy as np\n",
    "import math"
   ]
  },
  {
   "cell_type": "code",
   "execution_count": 141,
   "metadata": {},
   "outputs": [],
   "source": [
    "def IssuerCode(state=False):\n",
    "    issuers = pd.read_csv('data/s&p500.csv',sep=';')\n",
    "    issuer_filtered = []\n",
    "    for code_stock in issuers.Ticker:\n",
    "        # Check last transaction 2023\n",
    "        # Have 200 transaction\n",
    "        path = f'data/transactions/{code_stock}.csv'\n",
    "        if os.path.exists(path):\n",
    "            historical = pd.read_csv(path)\n",
    "            last_date_row = historical.Date.iloc[len(historical)-1] # get last date transactions\n",
    "            data_test = historical[-1000:]['Close'] # get data test\n",
    "            var = np.var(data_test) # calculate variance from data test\n",
    "            if (last_date_row[:4] == '2023' and len(historical) >= 200 and var > 0):\n",
    "                issuer_filtered.append(code_stock)\n",
    "    if state:\n",
    "        print(\"Code of Stock Issuer: {}\".format(issuer_filtered))\n",
    "    else:\n",
    "        return issuer_filtered"
   ]
  },
  {
   "cell_type": "code",
   "execution_count": 142,
   "metadata": {},
   "outputs": [],
   "source": [
    "issuers = IssuerCode()"
   ]
  },
  {
   "cell_type": "code",
   "execution_count": 143,
   "metadata": {},
   "outputs": [],
   "source": [
    "def get_signal(df_pred):\n",
    "    arr_signal = []\n",
    "    lot = 0\n",
    "    for k in range(len(df_pred)):\n",
    "        action = \"HOLD\"\n",
    "        if k > 0:\n",
    "            prev = df_pred['y_predict'][k-1]\n",
    "            current = df_pred['y_predict'][k]\n",
    "            if current < prev and lot == 0:\n",
    "                action = \"BUY\"\n",
    "                lot = current\n",
    "            elif current > lot and lot != 0:\n",
    "                lot = 0\n",
    "                action = \"SELL\"\n",
    "        arr_signal.append(action)\n",
    "    return arr_signal"
   ]
  },
  {
   "cell_type": "code",
   "execution_count": 144,
   "metadata": {},
   "outputs": [],
   "source": [
    "def trading(signals, df_test, cash=1000):\n",
    "    lot = 0\n",
    "    cash_beli = 0\n",
    "    #harga dari dataset = harga per lembar\n",
    "    for k in range(len(signals)):\n",
    "        action = signals[k]\n",
    "        open_price = df_test['Open'].iloc[k]\n",
    "        close_price = df_test['Close'].iloc[k]\n",
    "        if action == \"BUY\" and lot == 0 and cash > (open_price*100):\n",
    "            lot += math.floor(cash/(open_price*100))\n",
    "            cash_beli = open_price * (lot*100)\n",
    "            cash -= cash_beli\n",
    "        elif action == \"SELL\" and lot > 0:\n",
    "            cash += close_price * (lot*100)\n",
    "            lot = 0\n",
    "\n",
    "        #last rows\n",
    "        #1000 dan masih hold, dijual\n",
    "        if k == (len(signals)-1) and lot > 0:\n",
    "            cash += cash_beli\n",
    "    return cash"
   ]
  },
  {
   "cell_type": "code",
   "execution_count": 145,
   "metadata": {},
   "outputs": [],
   "source": [
    "# lookbacks = [5,10,15,20,25]\n",
    "# architecture = ['TFGRU', 'TFLSTM', 'TFGRULSTM', 'TFLSTMGRU']\n",
    "lookbacks = [20]\n",
    "architecture = ['TFGRU']\n",
    "\n",
    "issuer_result = {'code':[],'lookback':[],'arch':[],'cash_forecast':[], 'cash_sr':[]}\n",
    "\n",
    "path_result = 'results/targets/'\n",
    "initial_cash = 1000000\n",
    "for code in issuers:\n",
    "    path = f'data/transactions/{code}.csv'\n",
    "    if os.path.exists(path):\n",
    "        df = pd.read_csv(path)\n",
    "        df_test = df[-1000:]\n",
    "        \n",
    "        for archi in architecture:\n",
    "            for lookback in lookbacks:\n",
    "                path_target = f'{path_result}{archi}_multivariate/{code}_{lookback}_test_dfy.csv'\n",
    "                df_pred = pd.read_csv(path_target)\n",
    "                \n",
    "                arr_signal = get_signal(df_pred)\n",
    "                cash = trading(arr_signal, df_test, initial_cash)\n",
    "                issuer_result['code'].append(code)\n",
    "                issuer_result['lookback'].append(lookback)\n",
    "                issuer_result['arch'].append(archi)\n",
    "                issuer_result['cash_forecast'].append(cash)        \n"
   ]
  },
  {
   "cell_type": "code",
   "execution_count": 146,
   "metadata": {},
   "outputs": [],
   "source": [
    "for code in issuers:\n",
    "    path = f'data/transactions/{code}.csv'\n",
    "    if os.path.exists(path):\n",
    "        df = pd.read_csv(path)\n",
    "        df_test = df[-1000:]\n",
    "        path_signal = f'results/support_resistance_signals/{code}_signals.csv'\n",
    "        \n",
    "        arr_signal = pd.read_csv(path_signal)\n",
    "        cash = trading(arr_signal['action'], df_test, initial_cash)\n",
    "        issuer_result['cash_sr'].append(cash) "
   ]
  },
  {
   "cell_type": "code",
   "execution_count": 147,
   "metadata": {},
   "outputs": [
    {
     "name": "stdout",
     "output_type": "stream",
     "text": [
      "    code  lookback   arch  cash_forecast       cash_sr  return_forecast  \\\n",
      "0   AAPL        20  TFGRU   3.567230e+06  1.144020e+06     2.567230e+06   \n",
      "1   MSFT        20  TFGRU   1.993725e+06  1.231722e+06     9.937252e+05   \n",
      "2   AMZN        20  TFGRU   1.851691e+06  7.970617e+05     8.516907e+05   \n",
      "3   NVDA        20  TFGRU   5.718152e+06  1.781520e+06     4.718152e+06   \n",
      "4  GOOGL        20  TFGRU   2.929150e+06  6.267817e+05     1.929150e+06   \n",
      "5   TSLA        20  TFGRU   1.058960e+07  4.912080e+05     9.589596e+06   \n",
      "6   META        20  TFGRU   1.922054e+06  2.343085e+06     9.220539e+05   \n",
      "7   GOOG        20  TFGRU   2.870630e+06  7.432552e+05     1.870630e+06   \n",
      "8    UNH        20  TFGRU   2.446303e+06  1.004398e+06     1.446303e+06   \n",
      "9    XOM        20  TFGRU   1.744140e+06  9.732857e+05     7.441400e+05   \n",
      "\n",
      "      return_sr  return_forecast_percent  return_sr_percent  \n",
      "0  1.440200e+05               256.722993          14.402001  \n",
      "1  2.317219e+05                99.372518          23.172192  \n",
      "2 -2.029383e+05                85.169072         -20.293834  \n",
      "3  7.815198e+05               471.815197          78.151984  \n",
      "4 -3.732183e+05               192.915033         -37.321829  \n",
      "5 -5.087920e+05               958.959619         -50.879199  \n",
      "6  1.343085e+06                92.205389         134.308528  \n",
      "7 -2.567448e+05               187.063026         -25.674482  \n",
      "8  4.398216e+03               144.630275           0.439822  \n",
      "9 -2.671434e+04                74.414002          -2.671434  \n"
     ]
    }
   ],
   "source": [
    "# all_result\n",
    "df_result = pd.DataFrame(issuer_result)\n",
    "df_result['return_forecast'] = df_result['cash_forecast'] - initial_cash\n",
    "df_result['return_sr'] = df_result['cash_sr'] - initial_cash\n",
    "df_result['return_forecast_percent'] = df_result['return_forecast'] / initial_cash * 100\n",
    "df_result['return_sr_percent'] = df_result['return_sr'] / initial_cash * 100\n",
    "#diatas 0% sudah untung\n",
    "print(df_result)"
   ]
  },
  {
   "cell_type": "code",
   "execution_count": 148,
   "metadata": {},
   "outputs": [
    {
     "name": "stdout",
     "output_type": "stream",
     "text": [
      "    arch  lookback  cash_forecast       cash_sr\n",
      "0  TFGRU        20   3.563267e+07  1.113634e+07\n"
     ]
    }
   ],
   "source": [
    "# sum_all_code_result\n",
    "df_result = pd.DataFrame(issuer_result)\n",
    "df_sums = df_result.groupby(['arch', 'lookback'], as_index=False).sum()[['arch', 'lookback', 'cash_forecast', 'cash_sr']]\n",
    "print(df_sums)"
   ]
  }
 ],
 "metadata": {
  "kernelspec": {
   "display_name": "Python 3",
   "language": "python",
   "name": "python3"
  },
  "language_info": {
   "codemirror_mode": {
    "name": "ipython",
    "version": 3
   },
   "file_extension": ".py",
   "mimetype": "text/x-python",
   "name": "python",
   "nbconvert_exporter": "python",
   "pygments_lexer": "ipython3",
   "version": "3.11.5"
  },
  "orig_nbformat": 4
 },
 "nbformat": 4,
 "nbformat_minor": 2
}
