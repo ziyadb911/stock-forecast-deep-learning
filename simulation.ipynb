{
 "cells": [
  {
   "cell_type": "code",
   "execution_count": 897,
   "metadata": {},
   "outputs": [],
   "source": [
    "import os\n",
    "import pandas as pd\n",
    "import numpy as np\n",
    "import math"
   ]
  },
  {
   "cell_type": "code",
   "execution_count": 898,
   "metadata": {},
   "outputs": [],
   "source": [
    "def IssuerCode(state=False):\n",
    "    issuers = pd.read_csv('data/s&p500.csv',sep=';')\n",
    "    issuer_filtered = []\n",
    "    for code_stock in issuers.Ticker:\n",
    "        # Check last transaction 2023\n",
    "        # Have 200 transaction\n",
    "        path = f'data/transactions/{code_stock}.csv'\n",
    "        if os.path.exists(path):\n",
    "            historical = pd.read_csv(path)\n",
    "            last_date_row = historical.Date.iloc[len(historical)-1] # get last date transactions\n",
    "            data_test = historical[-1000:]['Close'] # get data test\n",
    "            var = np.var(data_test) # calculate variance from data test\n",
    "            if (last_date_row[:4] == '2023' and len(historical) >= 200 and var > 0):\n",
    "                issuer_filtered.append(code_stock)\n",
    "    if state:\n",
    "        print(\"Code of Stock Issuer: {}\".format(issuer_filtered))\n",
    "    else:\n",
    "        return issuer_filtered"
   ]
  },
  {
   "cell_type": "code",
   "execution_count": 899,
   "metadata": {},
   "outputs": [],
   "source": [
    "issuers = IssuerCode()"
   ]
  },
  {
   "cell_type": "code",
   "execution_count": 900,
   "metadata": {},
   "outputs": [],
   "source": [
    "def get_signal(df_pred):\n",
    "    arr_signal = {'action':[]}\n",
    "    lot = 0\n",
    "    for k in range(len(df_pred)):\n",
    "        action = \"HOLD\"\n",
    "        if k > 0:\n",
    "            prev = df_pred['y_predict'][k-1]\n",
    "            current = df_pred['y_predict'][k]\n",
    "            if current < prev and lot == 0:\n",
    "                action = \"BUY\"\n",
    "                lot = current\n",
    "            elif current > lot and lot != 0:\n",
    "                lot = 0\n",
    "                action = \"SELL\"\n",
    "        arr_signal['action'].append(action)\n",
    "    return arr_signal"
   ]
  },
  {
   "cell_type": "code",
   "execution_count": 901,
   "metadata": {},
   "outputs": [],
   "source": [
    "def trading(signals, df_test, cash=1000):\n",
    "    lot = 0\n",
    "    cash_beli = 0\n",
    "    #harga dari dataset = harga per lembar\n",
    "    for k in range(len(signals)):\n",
    "        action = signals[k]\n",
    "        open_price = df_test['Open'].iloc[k]\n",
    "        close_price = df_test['Close'].iloc[k]\n",
    "        if action == \"BUY\" and lot == 0 and cash > (open_price*100):\n",
    "            lot += math.floor(cash/(open_price*100))\n",
    "            cash_beli = open_price * (lot*100)\n",
    "            cash -= cash_beli\n",
    "        elif action == \"SELL\" and lot > 0:\n",
    "            cash += close_price * (lot*100)\n",
    "            lot = 0\n",
    "\n",
    "        #last rows\n",
    "        #1000 dan masih hold, dijual\n",
    "        if k == (len(signals)-1) and lot > 0:\n",
    "            cash += cash_beli\n",
    "    return cash"
   ]
  },
  {
   "cell_type": "code",
   "execution_count": 902,
   "metadata": {},
   "outputs": [],
   "source": [
    "# lookbacks = [5,10,15,20,25]\n",
    "# architecture = ['TFGRU', 'TFLSTM', 'TFGRULSTM', 'TFLSTMGRU']\n",
    "lookbacks = [20]\n",
    "architecture = ['TFGRU']\n",
    "\n",
    "issuer_result = {'code':[],'lookback':[],'arch':[],'cash_forecast':[], 'cash_sr':[]}\n",
    "\n",
    "path_result = 'results/targets/'\n",
    "initial_cash = 1000000\n",
    "for code in issuers:\n",
    "    path = f'data/transactions/{code}.csv'\n",
    "    if os.path.exists(path):\n",
    "        df = pd.read_csv(path)\n",
    "        df_test = df[-1000:]\n",
    "        \n",
    "        for archi in architecture:\n",
    "            for lookback in lookbacks:\n",
    "                path_target = f'{path_result}{archi}_multivariate/{code}_{lookback}_test_dfy.csv'\n",
    "                df_pred = pd.read_csv(path_target)\n",
    "                \n",
    "                arr_signal = pd.DataFrame(get_signal(df_pred))\n",
    "                cash = trading(arr_signal['action'], df_test, initial_cash)\n",
    "                issuer_result['code'].append(code)\n",
    "                issuer_result['lookback'].append(lookback)\n",
    "                issuer_result['arch'].append(archi)\n",
    "                issuer_result['cash_forecast'].append(cash)        \n"
   ]
  },
  {
   "cell_type": "code",
   "execution_count": 903,
   "metadata": {},
   "outputs": [],
   "source": [
    "for code in issuers:\n",
    "    path = f'data/transactions/{code}.csv'\n",
    "    if os.path.exists(path):\n",
    "        df = pd.read_csv(path)\n",
    "        df_test = df[-1000:]\n",
    "        path_signal = f'results/support_resistance_signals/{code}_signals.csv'\n",
    "        \n",
    "        arr_signal = pd.read_csv(path_signal)\n",
    "        cash = trading(arr_signal['action'], df_test, initial_cash)\n",
    "        issuer_result['cash_sr'].append(cash) "
   ]
  },
  {
   "cell_type": "code",
   "execution_count": 904,
   "metadata": {},
   "outputs": [
    {
     "name": "stdout",
     "output_type": "stream",
     "text": [
      " code  lookback  arch  cash_forecast      cash_sr  return_forecast    return_sr  return_forecast_percent  return_sr_percent\n",
      " AAPL        20 TFGRU   3,567,229.93 1,144,020.01     2,567,229.93   144,020.01                   256.72              14.40\n",
      " MSFT        20 TFGRU   1,993,725.18 1,231,721.92       993,725.18   231,721.92                    99.37              23.17\n",
      " AMZN        20 TFGRU   1,851,690.72   797,061.66       851,690.72  -202,938.34                    85.17             -20.29\n",
      " NVDA        20 TFGRU   5,718,151.97 1,781,519.84     4,718,151.97   781,519.84                   471.82              78.15\n",
      "GOOGL        20 TFGRU   2,929,150.33   626,781.71     1,929,150.33  -373,218.29                   192.92             -37.32\n",
      " TSLA        20 TFGRU  10,589,596.19   491,208.01     9,589,596.19  -508,791.99                   958.96             -50.88\n",
      " META        20 TFGRU   1,922,053.89 2,343,085.28       922,053.89 1,343,085.28                    92.21             134.31\n",
      " GOOG        20 TFGRU   2,870,630.26   743,255.18     1,870,630.26  -256,744.82                   187.06             -25.67\n",
      "  UNH        20 TFGRU   2,446,302.75 1,004,398.22     1,446,302.75     4,398.22                   144.63               0.44\n",
      "  XOM        20 TFGRU   1,744,140.02   973,285.66       744,140.02   -26,714.34                    74.41              -2.67\n"
     ]
    }
   ],
   "source": [
    "# all_result\n",
    "pd.options.display.float_format = '{:,.2f}'.format\n",
    "df_result = pd.DataFrame(issuer_result)\n",
    "df_result['return_forecast'] = df_result['cash_forecast'] - initial_cash\n",
    "df_result['return_sr'] = df_result['cash_sr'] - initial_cash\n",
    "df_result['return_forecast_percent'] = df_result['return_forecast'] / initial_cash * 100\n",
    "df_result['return_sr_percent'] = df_result['return_sr'] / initial_cash * 100\n",
    "#diatas 0% sudah untung\n",
    "print(df_result.to_string(index=False))"
   ]
  },
  {
   "cell_type": "code",
   "execution_count": 905,
   "metadata": {},
   "outputs": [
    {
     "name": "stdout",
     "output_type": "stream",
     "text": [
      "10,589,596.19\n",
      " 2,343,085.28\n",
      " 9,589,596.19\n",
      " 1,343,085.28\n",
      "       958.96\n",
      "       134.31\n"
     ]
    }
   ],
   "source": [
    "# sum_all_code_result\n",
    "df_sums = df_result[['cash_forecast', 'cash_sr', 'return_forecast', 'return_sr', 'return_forecast_percent', 'return_sr_percent']].max()\n",
    "print(df_sums.to_string(index=False))"
   ]
  }
 ],
 "metadata": {
  "kernelspec": {
   "display_name": "Python 3",
   "language": "python",
   "name": "python3"
  },
  "language_info": {
   "codemirror_mode": {
    "name": "ipython",
    "version": 3
   },
   "file_extension": ".py",
   "mimetype": "text/x-python",
   "name": "python",
   "nbconvert_exporter": "python",
   "pygments_lexer": "ipython3",
   "version": "3.11.5"
  },
  "orig_nbformat": 4
 },
 "nbformat": 4,
 "nbformat_minor": 2
}
